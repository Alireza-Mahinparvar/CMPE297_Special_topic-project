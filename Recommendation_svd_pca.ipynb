{
  "nbformat": 4,
  "nbformat_minor": 0,
  "metadata": {
    "colab": {
      "provenance": []
    },
    "kernelspec": {
      "name": "python3",
      "display_name": "Python 3"
    },
    "language_info": {
      "name": "python"
    }
  },
  "cells": [
    {
      "cell_type": "code",
      "execution_count": 1,
      "metadata": {
        "id": "n1VZY0rY0aMo"
      },
      "outputs": [],
      "source": [
        "import numpy as np\n",
        "import pandas as pd"
      ]
    },
    {
      "cell_type": "code",
      "source": [
        "import warnings\n",
        "warnings.filterwarnings('ignore')"
      ],
      "metadata": {
        "id": "UJGg2N9VuJYD"
      },
      "execution_count": 2,
      "outputs": []
    },
    {
      "cell_type": "code",
      "source": [
        "df_rating = pd.read_csv('/content/drive/MyDrive/lab2/ratings.dat', sep='::', header=None, names=['user_id', 'movie_id', 'rating', 'timestamp'])\n",
        "df_movie = pd.read_csv('TMDB_movies.dat', sep='::', header=None, names=['movie_id', 'title', 'genre'],encoding='ISO-8859-1')"
      ],
      "metadata": {
        "id": "Znr-bVbk0h_y"
      },
      "execution_count": 3,
      "outputs": []
    },
    {
      "cell_type": "markdown",
      "source": [
        "mxu matrix with movies as row and users as column"
      ],
      "metadata": {
        "id": "jeS_NPVQxXU8"
      }
    },
    {
      "cell_type": "code",
      "source": [
        "ratings_mat = np.ndarray(\n",
        "    shape=(np.max(df_rating.movie_id.values), np.max(df_rating.user_id.values)),\n",
        "    dtype=np.uint8)\n",
        "ratings_mat[df_rating.movie_id.values-1, df_rating.user_id.values-1] = df_rating.rating.values"
      ],
      "metadata": {
        "id": "-LmzoOLF6Rfz"
      },
      "execution_count": 4,
      "outputs": []
    },
    {
      "cell_type": "code",
      "source": [
        "ratings_mat"
      ],
      "metadata": {
        "colab": {
          "base_uri": "https://localhost:8080/"
        },
        "id": "mYPpdnlr74Q8",
        "outputId": "2be26be2-a8b2-4a60-ba0e-7165fd526a69"
      },
      "execution_count": 5,
      "outputs": [
        {
          "output_type": "execute_result",
          "data": {
            "text/plain": [
              "array([[  5, 222,  31, ..., 127,   0,   3],\n",
              "       [  0,  61,  27, ..., 127,   0,   0],\n",
              "       [  0, 154,  22, ..., 127,   0,   0],\n",
              "       ...,\n",
              "       [  0, 149, 152, ..., 127,   0,   0],\n",
              "       [  0, 243, 147, ..., 127,   0,   0],\n",
              "       [192,  81, 143, ..., 127,   0,   0]], dtype=uint8)"
            ]
          },
          "metadata": {},
          "execution_count": 5
        }
      ]
    },
    {
      "cell_type": "markdown",
      "source": [
        "normalising the matrix"
      ],
      "metadata": {
        "id": "Yh2Ivczsx9xI"
      }
    },
    {
      "cell_type": "code",
      "source": [
        "normalised_mat = ratings_mat - np.asarray([(np.mean(ratings_mat, 1))]).T"
      ],
      "metadata": {
        "id": "9usygbs_7759"
      },
      "execution_count": 6,
      "outputs": []
    },
    {
      "cell_type": "markdown",
      "source": [
        "SVD on matrix"
      ],
      "metadata": {
        "id": "w-dQtKkpyEKo"
      }
    },
    {
      "cell_type": "code",
      "source": [
        "A = normalised_mat.T / np.sqrt(ratings_mat.shape[0] - 1)\n",
        "U, S, V = np.linalg.svd(A)"
      ],
      "metadata": {
        "id": "dXyJwTDI8Deo"
      },
      "execution_count": 7,
      "outputs": []
    },
    {
      "cell_type": "markdown",
      "source": [
        "function for cosine similarity "
      ],
      "metadata": {
        "id": "OUzhBa6LyMPp"
      }
    },
    {
      "cell_type": "code",
      "source": [
        "def cosine_similarity(data, movie_id, top_n=10):\n",
        "    index = movie_id - 1 \n",
        "    movie_row = data[index, :]\n",
        "    magnitude = np.sqrt(np.einsum('ij, ij -> i', data, data))\n",
        "    similarity = np.dot(movie_row, data.T) / (magnitude[index] * magnitude)\n",
        "    sort_indexes = np.argsort(-similarity)\n",
        "    return sort_indexes[:top_n]"
      ],
      "metadata": {
        "id": "vpB6MlQb8nnV"
      },
      "execution_count": 8,
      "outputs": []
    },
    {
      "cell_type": "markdown",
      "source": [
        "function for printing top 10 similar movies"
      ],
      "metadata": {
        "id": "63meVg84yPrV"
      }
    },
    {
      "cell_type": "code",
      "source": [
        "def print_similar_movies(movie_data, movie_id, top_indexes):\n",
        "    print('Recommendations for {0}: \\n'.format(\n",
        "    movie_data[movie_data.movie_id == movie_id].title.values[0]))\n",
        "    for id in top_indexes + 1:\n",
        "        print(movie_data[movie_data.movie_id == id].title.values[0])"
      ],
      "metadata": {
        "id": "izkI_15j9OtY"
      },
      "execution_count": 9,
      "outputs": []
    },
    {
      "cell_type": "markdown",
      "source": [
        "reommendation using top k components from V.T and top n movies to given movie(movie_id)"
      ],
      "metadata": {
        "id": "AzDLs7U5yx6O"
      }
    },
    {
      "cell_type": "code",
      "source": [
        "k = 50\n",
        "movie_id = 10\n",
        "n = 10\n",
        "sliced = V.T[:, :k] \n",
        "indexes = cosine_similarity(sliced, movie_id, n)"
      ],
      "metadata": {
        "id": "PBHuIsAz9S2k"
      },
      "execution_count": 11,
      "outputs": []
    },
    {
      "cell_type": "code",
      "source": [
        "print_similar_movies(df_movie, movie_id, indexes)"
      ],
      "metadata": {
        "colab": {
          "base_uri": "https://localhost:8080/"
        },
        "id": "f2DL2GHQ9p1W",
        "outputId": "44f631cc-8da8-4c45-9417-d5e044c9ddfa"
      },
      "execution_count": 12,
      "outputs": [
        {
          "output_type": "stream",
          "name": "stdout",
          "text": [
            "Recommendations for GoldenEye (1995): \n",
            "\n",
            "GoldenEye (1995)\n",
            "World Is Not Enough, The (1999)\n",
            "Universal Soldier (1992)\n",
            "Soldier's Daughter Never Cries, A (1998)\n",
            "Ronin (1998)\n",
            "Rock, The (1996)\n",
            "Die Hard 2 (1990)\n",
            "Clear and Present Danger (1994)\n",
            "Jules and Jim (Jules et Jim) (1961)\n",
            "Tomorrow Never Dies (1997)\n"
          ]
        }
      ]
    },
    {
      "cell_type": "code",
      "source": [
        "indexes1 = cosine_similarity(sliced, 306, n)\n",
        "print_similar_movies(df_movie,306,indexes1)"
      ],
      "metadata": {
        "colab": {
          "base_uri": "https://localhost:8080/"
        },
        "id": "uUEZSxFI-EL0",
        "outputId": "de68687e-ea7e-4478-e2e0-f4182b116d22"
      },
      "execution_count": 13,
      "outputs": [
        {
          "output_type": "stream",
          "name": "stdout",
          "text": [
            "Recommendations for Three Colors: Red (1994): \n",
            "\n",
            "Three Colors: Red (1994)\n",
            "Outlaw, The (1943)\n",
            "Best in Show (2000)\n",
            "Primary Colors (1998)\n",
            "Gridlock'd (1997)\n",
            "Romeo and Juliet (1968)\n",
            "Last Emperor, The (1987)\n",
            "Happy Go Lovely (1951)\n",
            "Castle, The (1997)\n",
            "Love & Human Remains (1993)\n"
          ]
        }
      ]
    },
    {
      "cell_type": "code",
      "source": [
        "indexes2 = cosine_similarity(sliced, 3527, n)\n",
        "print_similar_movies(df_movie,3527,indexes2)"
      ],
      "metadata": {
        "colab": {
          "base_uri": "https://localhost:8080/"
        },
        "id": "p4n3e6D4_A1x",
        "outputId": "ca8d1942-028f-4d31-b789-310e9d2a14ce"
      },
      "execution_count": 14,
      "outputs": [
        {
          "output_type": "stream",
          "name": "stdout",
          "text": [
            "Recommendations for Predator (1987): \n",
            "\n",
            "Predator (1987)\n",
            "Aliens (1986)\n",
            "Star Trek: The Wrath of Khan (1982)\n",
            "Superman (1978)\n",
            "Mad Max (1979)\n",
            "Terminator, The (1984)\n",
            "Star Wars: Episode VI - Return of the Jedi (1983)\n",
            "Tron (1982)\n",
            "Mad Max 2 (a.k.a. The Road Warrior) (1981)\n",
            "Star Wars: Episode V - The Empire Strikes Back (1980)\n"
          ]
        }
      ]
    },
    {
      "cell_type": "markdown",
      "source": [
        "covariance matrix "
      ],
      "metadata": {
        "id": "-LfHrwBJzVEk"
      }
    },
    {
      "cell_type": "code",
      "source": [
        "covMatrix = np.cov(normalised_mat,bias=True)"
      ],
      "metadata": {
        "id": "zOYfWQ0uSDAh"
      },
      "execution_count": 15,
      "outputs": []
    },
    {
      "cell_type": "markdown",
      "source": [
        "eigen values and vectors for covariance matrix"
      ],
      "metadata": {
        "id": "RN7HijTyzeAd"
      }
    },
    {
      "cell_type": "code",
      "source": [
        "from numpy.linalg import eig\n",
        "eigenvalues, eigenvectors = eig(covMatrix)"
      ],
      "metadata": {
        "id": "xINXhAdwSY5_"
      },
      "execution_count": 16,
      "outputs": []
    },
    {
      "cell_type": "code",
      "source": [
        "eigenvalues"
      ],
      "metadata": {
        "colab": {
          "base_uri": "https://localhost:8080/"
        },
        "id": "68ZDiZmPVGar",
        "outputId": "16bb736f-a5ea-46f0-9e33-2470b4885adc"
      },
      "execution_count": 17,
      "outputs": [
        {
          "output_type": "execute_result",
          "data": {
            "text/plain": [
              "array([21205212.47706374,  1897624.10513425,   736459.27580307, ...,\n",
              "              0.        ,        0.        ,        0.        ])"
            ]
          },
          "metadata": {},
          "execution_count": 17
        }
      ]
    },
    {
      "cell_type": "code",
      "source": [
        "eigenvectors"
      ],
      "metadata": {
        "colab": {
          "base_uri": "https://localhost:8080/"
        },
        "id": "PFO_Y0WoVJc0",
        "outputId": "d2c68ae7-d9f6-45ab-cc39-8e0fdb63467d"
      },
      "execution_count": 18,
      "outputs": [
        {
          "output_type": "execute_result",
          "data": {
            "text/plain": [
              "array([[ 0.01079223,  0.01633014,  0.00805679, ...,  0.        ,\n",
              "         0.        ,  0.        ],\n",
              "       [ 0.0142919 ,  0.02286348,  0.01042404, ...,  0.        ,\n",
              "         0.        ,  0.        ],\n",
              "       [ 0.0148288 ,  0.02470356, -0.02050741, ...,  0.        ,\n",
              "         0.        ,  0.        ],\n",
              "       ...,\n",
              "       [ 0.01688721, -0.00375855, -0.02356996, ...,  0.        ,\n",
              "         0.        ,  0.        ],\n",
              "       [ 0.01669735, -0.00398967,  0.01911945, ...,  0.        ,\n",
              "         0.        ,  0.        ],\n",
              "       [ 0.01590264, -0.00279717, -0.00267882, ...,  0.        ,\n",
              "         0.        ,  0.        ]])"
            ]
          },
          "metadata": {},
          "execution_count": 18
        }
      ]
    },
    {
      "cell_type": "markdown",
      "source": [
        "reommendation using top k eigen vectors from egienvectors and top n movies for given movie (movie_id)"
      ],
      "metadata": {
        "id": "ufVelOU131Dt"
      }
    },
    {
      "cell_type": "code",
      "source": [
        "k = 50\n",
        "movie_id = 10\n",
        "n = 10\n",
        "sliced1 = eigenvectors[:, :k] \n",
        "indexes_1 = cosine_similarity(sliced1, movie_id, n)\n",
        "print_similar_movies(df_movie,movie_id,indexes_1)"
      ],
      "metadata": {
        "colab": {
          "base_uri": "https://localhost:8080/"
        },
        "id": "CE3PF8X7VNRv",
        "outputId": "6b53fc5a-97ef-4b0c-b4b3-9572bc8a16ea"
      },
      "execution_count": 19,
      "outputs": [
        {
          "output_type": "stream",
          "name": "stdout",
          "text": [
            "Recommendations for GoldenEye (1995): \n",
            "\n",
            "GoldenEye (1995)\n",
            "World Is Not Enough, The (1999)\n",
            "Universal Soldier (1992)\n",
            "Soldier's Daughter Never Cries, A (1998)\n",
            "Ronin (1998)\n",
            "Rock, The (1996)\n",
            "Die Hard 2 (1990)\n",
            "Clear and Present Danger (1994)\n",
            "Jules and Jim (Jules et Jim) (1961)\n",
            "Tomorrow Never Dies (1997)\n"
          ]
        }
      ]
    },
    {
      "cell_type": "code",
      "source": [
        "indexes_2 = cosine_similarity(sliced1,306, n)\n",
        "print_similar_movies(df_movie,306,indexes_2)"
      ],
      "metadata": {
        "colab": {
          "base_uri": "https://localhost:8080/"
        },
        "id": "yswZk0XviDmg",
        "outputId": "c5c61af0-ca19-46b2-8aae-3148bf29506c"
      },
      "execution_count": 20,
      "outputs": [
        {
          "output_type": "stream",
          "name": "stdout",
          "text": [
            "Recommendations for Three Colors: Red (1994): \n",
            "\n",
            "Three Colors: Red (1994)\n",
            "Outlaw, The (1943)\n",
            "Best in Show (2000)\n",
            "Primary Colors (1998)\n",
            "Gridlock'd (1997)\n",
            "Romeo and Juliet (1968)\n",
            "Last Emperor, The (1987)\n",
            "Happy Go Lovely (1951)\n",
            "Castle, The (1997)\n",
            "Love & Human Remains (1993)\n"
          ]
        }
      ]
    }
  ]
}